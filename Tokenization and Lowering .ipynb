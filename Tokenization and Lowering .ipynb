{
 "cells": [
  {
   "cell_type": "code",
   "execution_count": 1,
   "id": "bba0dd8a",
   "metadata": {},
   "outputs": [
    {
     "data": {
      "text/plain": [
       "['Hello',\n",
       " 'everyone',\n",
       " '.',\n",
       " 'Welcome',\n",
       " 'to',\n",
       " 'Infromation',\n",
       " 'Storage',\n",
       " 'and',\n",
       " 'Retrieval',\n",
       " 'class']"
      ]
     },
     "execution_count": 1,
     "metadata": {},
     "output_type": "execute_result"
    }
   ],
   "source": [
    "from nltk.tokenize import word_tokenize \n",
    "Text = \"Hello everyone. Welcome to Infromation Storage and Retrieval class\"\n",
    "word_tokenize(Text)"
   ]
  },
  {
   "cell_type": "code",
   "execution_count": null,
   "id": "a795de5c",
   "metadata": {},
   "outputs": [],
   "source": []
  },
  {
   "cell_type": "code",
   "execution_count": 2,
   "id": "36627651",
   "metadata": {},
   "outputs": [],
   "source": [
    "# input string\n",
    "string = \" Hello  Dear students, this Is the INPUT string to NORMALIZE !\""
   ]
  },
  {
   "cell_type": "code",
   "execution_count": 3,
   "id": "669e9fee",
   "metadata": {},
   "outputs": [],
   "source": [
    "# convert to lower case\n",
    "lower_string = string.lower()"
   ]
  },
  {
   "cell_type": "code",
   "execution_count": 5,
   "id": "4296a3fe",
   "metadata": {},
   "outputs": [
    {
     "name": "stdout",
     "output_type": "stream",
     "text": [
      " hello  dear students, this is the input string to normalize !\n"
     ]
    }
   ],
   "source": [
    "print(lower_string)"
   ]
  },
  {
   "cell_type": "code",
   "execution_count": 6,
   "id": "c3e861ac",
   "metadata": {},
   "outputs": [
    {
     "data": {
      "text/plain": [
       "62"
      ]
     },
     "execution_count": 6,
     "metadata": {},
     "output_type": "execute_result"
    }
   ],
   "source": [
    "len(lower_string)"
   ]
  },
  {
   "cell_type": "code",
   "execution_count": null,
   "id": "c1d0c36b",
   "metadata": {},
   "outputs": [],
   "source": [
    "tf"
   ]
  }
 ],
 "metadata": {
  "kernelspec": {
   "display_name": "Python 3 (ipykernel)",
   "language": "python",
   "name": "python3"
  },
  "language_info": {
   "codemirror_mode": {
    "name": "ipython",
    "version": 3
   },
   "file_extension": ".py",
   "mimetype": "text/x-python",
   "name": "python",
   "nbconvert_exporter": "python",
   "pygments_lexer": "ipython3",
   "version": "3.8.1"
  }
 },
 "nbformat": 4,
 "nbformat_minor": 5
}
